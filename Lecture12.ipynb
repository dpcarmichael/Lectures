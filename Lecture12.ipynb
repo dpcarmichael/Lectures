{
 "cells": [
  {
   "cell_type": "markdown",
   "metadata": {},
   "source": [
    "# Lecture 12:  Numerical Integration and Monte Carlo\n",
    "\n",
    "**Overview:**\n",
    "* Numerical integration.\n",
    "* Simple Monte Carlo integration.\n",
    "* Importance sampling.\n",
    "\n",
    "**Next Lecture:**\n",
    "* Markov chain Monte Carlo and the Metropolis Algorithm.\n",
    "---"
   ]
  },
  {
   "cell_type": "code",
   "execution_count": 3,
   "metadata": {},
   "outputs": [],
   "source": [
    "#matplotlib notebook\n",
    "import numpy as np\n",
    "import math\n",
    "import matplotlib.pyplot as plt\n",
    "from scipy import integrate"
   ]
  },
  {
   "cell_type": "markdown",
   "metadata": {},
   "source": [
    "## Dart Board Estimate of $\\pi$\n",
    "\n",
    "The code in the cell below generates a set of random coordinates inside our unit square and calculates the magnitude of the vector defined by these coordinates.\n",
    "\n",
    "* Run the code in the cell and call out the number generated for Prof. Plumb to plot on the board."
   ]
  },
  {
   "cell_type": "code",
   "execution_count": 4,
   "metadata": {},
   "outputs": [
    {
     "name": "stdout",
     "output_type": "stream",
     "text": [
      "0.5512524396761169\n"
     ]
    }
   ],
   "source": [
    "x = 2 * (np.random.random([1, 2])) - 1\n",
    "print(np.sqrt(np.sum(x**2)))"
   ]
  },
  {
   "cell_type": "markdown",
   "metadata": {},
   "source": [
    "### Functions to integrate, and some exact results"
   ]
  },
  {
   "cell_type": "code",
   "execution_count": 16,
   "metadata": {},
   "outputs": [],
   "source": [
    "def gaussian(x):\n",
    "    return np.exp(-x**2)\n",
    "\n",
    "# A Function that is not well behaved \n",
    "def Fermi(x):\n",
    "    num = 1/np.sqrt(x)\n",
    "    den = np.exp(x)+1\n",
    "    return num/den\n",
    "\n",
    "def fp(x):\n",
    "    arg = 1/(x*(2-x))\n",
    "    return (np.sin(arg))**2\n",
    "\n",
    "# area of a unit circle\n",
    "def sphere(x): \n",
    "    \"\"\" \n",
    "    return 1 if point is inside radius, zero otherwise\n",
    "    x is a multidimensional vector, must have dimension greater than 1\n",
    "    \"\"\"\n",
    "    r = np.sum(x**2, axis = 1) \n",
    "    a = (r<=1).astype(int)\n",
    "    return 1.0*a\n",
    "\n",
    "# volume of a hypersphere in n dimensions\n",
    "hypersphere = lambda r, n: math.pi**(n / 2)/math.gamma(n / 2 + 1)*r**n\n",
    "\n",
    "# exact integral of a Gaussian\n",
    "analyticalIntegral = np.sqrt(np.pi)"
   ]
  },
  {
   "cell_type": "code",
   "execution_count": 6,
   "metadata": {},
   "outputs": [],
   "source": [
    "# Numerically integrate a Gaussian \n",
    "\n",
    "def riemannSum(f,a,b):\n",
    "    top = b\n",
    "    bottom = a\n",
    "    width = top - bottom\n",
    "    n = 100\n",
    "    dx = width/n\n",
    "    x = np.arange(bottom, top, width/n)\n",
    "\n",
    "    return np.sum(f(x)) * dx\n",
    "\n",
    "\n",
    "def Simpson(f,a,b):\n",
    "    top = b\n",
    "    bottom = a\n",
    "    width = top - bottom\n",
    "    n = 100\n",
    "    dx = width/n\n",
    "    x = np.arange(bottom, top, width/n)\n",
    "    \n",
    "    s = (f(-0.5*width)+f(0.5*width)) \n",
    "    return (2*f(x[2:-2:2]).sum() + 4*f(x[1:-2:2]).sum()+s) * dx/3\n",
    "\n",
    "# using Scipy's built in integration schemes\n",
    "scipyIntegral = integrate.quad(gaussian, -100.0, 100.0)"
   ]
  },
  {
   "cell_type": "code",
   "execution_count": 9,
   "metadata": {},
   "outputs": [],
   "source": [
    "#np.random.seed(256)\n",
    "def naiveMonteCarlo(f, limits = [-10,10],d = 1, n_points = 1000, NSamples = 1000):\n",
    "    \"\"\"\n",
    "    Implement a mean value Monte-Carlo Integration in d dimensions\n",
    "    \n",
    "    f is function to integrate, must take an input vector x of dimension d\n",
    "    \n",
    "    limits define the range of integration, this function only works for integration ranges that are the same\n",
    "    all dimensitons\n",
    "    \n",
    "    n_points are number of points to sample in domain\n",
    "    NSamples number of time to repeat integration, decrease statistical noise\n",
    "    \"\"\"\n",
    "    width = np.abs(limits[1] - limits[0])\n",
    "    samples = np.zeros(NSamples)\n",
    "    \n",
    "    for i in range(NSamples):\n",
    "        x = width * (np.random.random([n_points, d])) + limits[0]\n",
    "        samples[i] = width**d * np.sum(f(x))/n_points    \n",
    "    \n",
    "    return samples.mean(), samples.std()"
   ]
  },
  {
   "cell_type": "code",
   "execution_count": 10,
   "metadata": {},
   "outputs": [
    {
     "name": "stdout",
     "output_type": "stream",
     "text": [
      "Analytical (exact) integral =  1.7724538509055159\n"
     ]
    },
    {
     "ename": "TypeError",
     "evalue": "riemannSum() missing 2 required positional arguments: 'a' and 'b'",
     "output_type": "error",
     "traceback": [
      "\u001b[0;31m---------------------------------------------------------------------------\u001b[0m",
      "\u001b[0;31mTypeError\u001b[0m                                 Traceback (most recent call last)",
      "\u001b[0;32m<ipython-input-10-1c872651091e>\u001b[0m in \u001b[0;36m<module>\u001b[0;34m\u001b[0m\n\u001b[1;32m      1\u001b[0m \u001b[0mprint\u001b[0m\u001b[0;34m(\u001b[0m\u001b[0;34m\"Analytical (exact) integral = \"\u001b[0m\u001b[0;34m,\u001b[0m \u001b[0manalyticalIntegral\u001b[0m\u001b[0;34m)\u001b[0m\u001b[0;34m\u001b[0m\u001b[0;34m\u001b[0m\u001b[0m\n\u001b[0;32m----> 2\u001b[0;31m \u001b[0mprint\u001b[0m\u001b[0;34m(\u001b[0m\u001b[0;34m\"Riemann Sum = \"\u001b[0m\u001b[0;34m,\u001b[0m \u001b[0mriemannSum\u001b[0m\u001b[0;34m(\u001b[0m\u001b[0mgaussian\u001b[0m\u001b[0;34m)\u001b[0m\u001b[0;34m)\u001b[0m\u001b[0;34m\u001b[0m\u001b[0;34m\u001b[0m\u001b[0m\n\u001b[0m\u001b[1;32m      3\u001b[0m \u001b[0mprint\u001b[0m\u001b[0;34m(\u001b[0m\u001b[0;34m\"Simpsons Rule = \"\u001b[0m\u001b[0;34m,\u001b[0m \u001b[0mSimpson\u001b[0m\u001b[0;34m(\u001b[0m\u001b[0mgaussian\u001b[0m\u001b[0;34m)\u001b[0m\u001b[0;34m)\u001b[0m\u001b[0;34m\u001b[0m\u001b[0;34m\u001b[0m\u001b[0m\n\u001b[1;32m      4\u001b[0m \u001b[0mprint\u001b[0m\u001b[0;34m(\u001b[0m\u001b[0;34m\"SciPy Integral = \"\u001b[0m\u001b[0;34m,\u001b[0m \u001b[0mscipyIntegral\u001b[0m\u001b[0;34m)\u001b[0m\u001b[0;34m\u001b[0m\u001b[0;34m\u001b[0m\u001b[0m\n\u001b[1;32m      5\u001b[0m \u001b[0mprint\u001b[0m\u001b[0;34m(\u001b[0m\u001b[0;34m\"Naive Mean Value Monte Carlo = \"\u001b[0m\u001b[0;34m,\u001b[0m \u001b[0mnaiveMonteCarlo\u001b[0m\u001b[0;34m(\u001b[0m\u001b[0mgaussian\u001b[0m\u001b[0;34m)\u001b[0m\u001b[0;34m)\u001b[0m\u001b[0;34m\u001b[0m\u001b[0;34m\u001b[0m\u001b[0m\n",
      "\u001b[0;31mTypeError\u001b[0m: riemannSum() missing 2 required positional arguments: 'a' and 'b'"
     ]
    }
   ],
   "source": [
    "print(\"Analytical (exact) integral = \", analyticalIntegral)\n",
    "print(\"Riemann Sum = \", riemannSum(gaussian))\n",
    "print(\"Simpsons Rule = \", Simpson(gaussian))\n",
    "print(\"SciPy Integral = \", scipyIntegral)\n",
    "print(\"Naive Mean Value Monte Carlo = \", naiveMonteCarlo(gaussian))"
   ]
  },
  {
   "cell_type": "markdown",
   "metadata": {},
   "source": [
    "### Tasks\n",
    "* Use the mean value method Monte Carlo method to estimate the value of $\\pi$, (area of unit circle) to a higher accuracy than what was done in the demonstration.\n",
    "* In the cell below, we plot a Pathological function, first examine the plot. Now suppose we wished to determine the value of the integral of this function between x=0 and x=2. Can you evaluate this integral using Simpsons rule or Scipy? Do you expect these results to be accurate? What about using Monte Carlo integration? (the numerical value of the integral should be about 1.45."
   ]
  },
  {
   "cell_type": "markdown",
   "metadata": {},
   "source": [
    "#### Estimating $\\pi$"
   ]
  },
  {
   "cell_type": "code",
   "execution_count": 55,
   "metadata": {},
   "outputs": [
    {
     "data": {
      "text/plain": [
       "(3.1428400000000005, 0.04311582540088967)"
      ]
     },
     "execution_count": 55,
     "metadata": {},
     "output_type": "execute_result"
    }
   ],
   "source": [
    "naiveMonteCarlo(sphere, limits = [-1,1], d = 2)"
   ]
  },
  {
   "cell_type": "markdown",
   "metadata": {},
   "source": [
    "#### Pathological Function"
   ]
  },
  {
   "cell_type": "code",
   "execution_count": 8,
   "metadata": {},
   "outputs": [
    {
     "data": {
      "text/plain": [
       "[<matplotlib.lines.Line2D at 0x7f96406ecdd8>]"
      ]
     },
     "execution_count": 8,
     "metadata": {},
     "output_type": "execute_result"
    },
    {
     "data": {
      "image/png": "[encoded data removed]",
      "text/plain": [
       "<Figure size 432x288 with 1 Axes>"
      ]
     },
     "metadata": {
      "needs_background": "light"
     },
     "output_type": "display_data"
    }
   ],
   "source": [
    "fig = plt.figure()\n",
    "ax = fig.add_subplot(111)\n",
    "x = np.linspace(1e-8,2-1e-8,10000)\n",
    "ax.plot(x,fp(x))"
   ]
  },
  {
   "cell_type": "code",
   "execution_count": 54,
   "metadata": {},
   "outputs": [
    {
     "name": "stdout",
     "output_type": "stream",
     "text": [
      "Riemann Sum =  1.396545996955162\n",
      "Simpsons Rule =  1.4092558880034467\n",
      "Naive Mean Value Monte Carlo =  (1.4509442512382025, 0.016756788998588613)\n"
     ]
    }
   ],
   "source": [
    "print(\"Riemann Sum = \", riemannSum(fp,0.000001,2-0.000001))\n",
    "print(\"Simpsons Rule = \", Simpson(fp,0.000001,2-0.000001))\n",
    "#print(\"SciPy Integral = \", integrate.quad(fp, 0, 2) )\n",
    "print(\"Naive Mean Value Monte Carlo = \", naiveMonteCarlo(fp,limits = [0,2]) )"
   ]
  },
  {
   "cell_type": "markdown",
   "metadata": {},
   "source": [
    "### More Tasks\n",
    "* Use the  Monte Carlo integrator to n-dimensions to find the volume of a hypersphere in 5 dimensions. Compare this results with Simpsons rule and the exact value.\n",
    "* Can you confirm the error on the MC integration is independent of the number of dimensions?"
   ]
  },
  {
   "cell_type": "code",
   "execution_count": 60,
   "metadata": {},
   "outputs": [
    {
     "name": "stdout",
     "output_type": "stream",
     "text": [
      "Naive Mean Value Monte Carlo =  (5.21696, 0.3775309767423065)\n",
      "True Value =  5.263789013914325\n"
     ]
    }
   ],
   "source": [
    "print(\"Naive Mean Value Monte Carlo = \", naiveMonteCarlo(sphere, limits = [-1,1], d = 5))\n",
    "print(\"True Value = \", hypersphere(1,5))"
   ]
  },
  {
   "cell_type": "code",
   "execution_count": 144,
   "metadata": {},
   "outputs": [
    {
     "data": {
      "text/plain": [
       "[<matplotlib.lines.Line2D at 0x7f18f9c3fe80>]"
      ]
     },
     "execution_count": 144,
     "metadata": {},
     "output_type": "execute_result"
    },
    {
     "data": {
      "image/png": "[encoded data removed]",
      "text/plain": [
       "<Figure size 432x288 with 1 Axes>"
      ]
     },
     "metadata": {
      "needs_background": "light"
     },
     "output_type": "display_data"
    }
   ],
   "source": [
    "error = np.zeros([10,2])\n",
    "\n",
    "for i in range(10):\n",
    "    error[i,0] = naiveMonteCarlo(sphere, limits = [-2,2], d = i)[1]\n",
    "\n",
    "def F(d):\n",
    "    return hypersphere(1,d)\n",
    "\n",
    "def Area(d):\n",
    "    return 4**d\n",
    "\n",
    "def SphereError(d):\n",
    "    return np.sqrt( F(d) * (Area(d)-F(d)) / 1000)\n",
    "\n",
    "for i in range(10):\n",
    "    error[i,1] = SphereError(i)\n",
    "    \n",
    "plt.plot(range(10), error[:,0])\n",
    "plt.plot(range(10), error[:,1])"
   ]
  },
  {
   "cell_type": "markdown",
   "metadata": {},
   "source": [
    "## Importance sampling Monte Carlo\n",
    "* Review the importance sampling method below. Do you understand all of the steps?\n",
    "* Can you modify the method and integrate a 4 dimensional Gaussian function?"
   ]
  },
  {
   "cell_type": "code",
   "execution_count": 17,
   "metadata": {},
   "outputs": [],
   "source": [
    "def p_normal(stdev, x): # normal distribution\n",
    "    s = 1.0 / stdev\n",
    "    s2 = s**2\n",
    "    return np.exp(-s2 * x**2) * s / np.sqrt(np.pi)\n",
    "\n",
    "def importanceSampledMonteCarlo(f, p, NSamples=10):\n",
    "    n = 10000\n",
    "    stdev = 1.0\n",
    "    samples = np.zeros(NSamples)\n",
    "\n",
    "    for i in range(NSamples):\n",
    "        # sample random values from a normal distribution\n",
    "        x = np.random.normal(loc = 0.0, scale = np.sqrt(0.5) * stdev, size = n)\n",
    "        samples[i] = (f(x) / p(stdev, x)).mean()       \n",
    "    \n",
    "    return samples.mean(), samples.std()\n"
   ]
  },
  {
   "cell_type": "code",
   "execution_count": 18,
   "metadata": {},
   "outputs": [
    {
     "name": "stdout",
     "output_type": "stream",
     "text": [
      "Naive Mean Value Monte Carlo =  (1.773823330965601, 0.14695235061487066)\n",
      "Importance Sampled Monte Carlo =  (1.7724538509055165, 0.0)\n"
     ]
    }
   ],
   "source": [
    "print(\"Naive Mean Value Monte Carlo = \", naiveMonteCarlo(gaussian))\n",
    "print(\"Importance Sampled Monte Carlo = \", importanceSampledMonteCarlo(gaussian, p_normal))"
   ]
  },
  {
   "cell_type": "code",
   "execution_count": 29,
   "metadata": {},
   "outputs": [],
   "source": [
    "def importanceSampledMonteCarlo4D(f, p, NSamples=10):\n",
    "    n = 10000\n",
    "    stdev = 1.0\n",
    "    samples = np.zeros(NSamples)\n",
    "\n",
    "    for i in range(NSamples):\n",
    "        # sample random values from a normal distribution\n",
    "        x = np.random.normal(loc = 0.0, scale = np.sqrt(0.5) * stdev, size = [4,n])\n",
    "        w = np.prod(p(stdev,x),axis = 0)\n",
    "        samples[i] = (np.prod(f(x),axis = 0)/ w).mean()       \n",
    "    \n",
    "    return samples.mean(), samples.std()"
   ]
  },
  {
   "cell_type": "code",
   "execution_count": 34,
   "metadata": {},
   "outputs": [
    {
     "name": "stdout",
     "output_type": "stream",
     "text": [
      "Naive Mean Value Monte Carlo =  10.048746099222525\n",
      "Importance Sampled Monte Carlo =  (9.869604401089358, 0.0)\n"
     ]
    }
   ],
   "source": [
    "print(\"Naive Mean Value Monte Carlo = \", naiveMonteCarlo(gaussian)[0]**4)\n",
    "print(\"Importance Sampled Monte Carlo = \", importanceSampledMonteCarlo4D(gaussian, p_normal))"
   ]
  },
  {
   "cell_type": "code",
   "execution_count": null,
   "metadata": {},
   "outputs": [],
   "source": []
  }
 ],
 "metadata": {
  "kernelspec": {
   "display_name": "Python 3",
   "language": "python",
   "name": "python3"
  },
  "language_info": {
   "codemirror_mode": {
    "name": "ipython",
    "version": 3
   },
   "file_extension": ".py",
   "mimetype": "text/x-python",
   "name": "python",
   "nbconvert_exporter": "python",
   "pygments_lexer": "ipython3",
   "version": "3.7.3"
  }
 },
 "nbformat": 4,
 "nbformat_minor": 4
}
