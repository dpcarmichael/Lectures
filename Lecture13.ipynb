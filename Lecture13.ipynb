{
 "cells": [
  {
   "cell_type": "markdown",
   "metadata": {},
   "source": [
    "# Lecture 13:  Metropolis Algorithm \n",
    "\n",
    "**Overview:**\n",
    "* Markov chain Monte Carlo.\n",
    "* Metropolis algorithm.\n",
    "\n",
    "\n",
    "**Next Lecture:**\n",
    "* Ising model of ferromagnetism and Monte Carlo in stat mech.\n",
    "---"
   ]
  },
  {
   "cell_type": "code",
   "execution_count": 3,
   "metadata": {},
   "outputs": [],
   "source": [
    "#%matplotlib notebook\n",
    "import numpy as np\n",
    "import matplotlib.pyplot as plt\n",
    "from numba import jit"
   ]
  },
  {
   "cell_type": "markdown",
   "metadata": {},
   "source": [
    "We will generate a Gaussian probability distribution from an un-normalized Gaussian. This may not be so impressive, but remember, we start from a random point that is not very likely to show up in the Gaussian distribution. This method can be used to generate more complex probability distributions from functions that may not be so easy to integrate.\n",
    "\n",
    "* Try decreasing and/or increasing the sampling width. Note the change in the accepted fraction of points.\n",
    "* How does the approximate distribution change for a very small (< 0.05) accepted fraction. Why does it change in this way?\n",
    "* How does the approximate distribution change for a very large (> 0.95) accepted fraction. Why does it change in this way?"
   ]
  },
  {
   "cell_type": "code",
   "execution_count": 18,
   "metadata": {},
   "outputs": [],
   "source": [
    "def gaussian(x):\n",
    "    return np.exp(-x**2)"
   ]
  },
  {
   "cell_type": "code",
   "execution_count": 24,
   "metadata": {},
   "outputs": [
    {
     "name": "stdout",
     "output_type": "stream",
     "text": [
      "Accepted fraction: 0.8598\n",
      "<x> =  0.0022604056305231247\n",
      "<x^2> =  0.527039514383325\n"
     ]
    },
    {
     "data": {
      "image/png": "[encoded data removed]",
      "text/plain": [
       "<Figure size 432x288 with 1 Axes>"
      ]
     },
     "metadata": {
      "needs_background": "light"
     },
     "output_type": "display_data"
    }
   ],
   "source": [
    "width = 1    # sampling width parameter\n",
    "xList = [-10.0]    # some random starting point\n",
    "\n",
    "numberOfSamples = 100000\n",
    "xAccumulator = 0.0   # accuumlate for mean and standard deviation of accepted points\n",
    "x2accumulator = 0.0\n",
    "rejected  = 0.0  # count rejects \n",
    "\n",
    "np.random.seed(247)\n",
    "\n",
    "for i in range(numberOfSamples):\n",
    "\n",
    "    x = xList[-1]\n",
    "    \n",
    "    xTrial = x + width * (np.random.random() - 0.5)\n",
    "    w = gaussian(xTrial) / gaussian(x)   # we could generate any complex distribtion here that we wish.\n",
    "    \n",
    "    if w >= 1.0: # accept move\n",
    "        xList.append(xTrial)\n",
    "            \n",
    "    else :\n",
    "        r = np.random.random()\n",
    "        \n",
    "        if r <= w: # again accept move\n",
    "            xList.append(xTrial)\n",
    "                \n",
    "        else : # reject move\n",
    "            xList.append(x)   # keep current point for statistics\n",
    "            rejected+=1\n",
    "    \n",
    "    xAccumulator += xList[-1]\n",
    "    x2accumulator += xList[-1]**2\n",
    "            \n",
    "print(\"Accepted fraction: {:0.4f}\".format((numberOfSamples-rejected)/numberOfSamples))\n",
    "print(\"<x> = \", xAccumulator / numberOfSamples)\n",
    "print(\"<x^2> = \", x2accumulator / numberOfSamples)\n",
    "\n",
    "fig = plt.figure()\n",
    "ax = fig.add_subplot(111)\n",
    "ax.hist(xList, bins='auto', density=1)\n",
    "ax.set_xlim([-4,4])\n",
    "fig.show()"
   ]
  },
  {
   "cell_type": "code",
   "execution_count": null,
   "metadata": {},
   "outputs": [],
   "source": [
    "width_par = np.array([5,1,6,5.8,10,100,1000,0.1])\n",
    "accept_per = np.array([0.433,0.8598,0.3671,0.3792,0.2266,.0226,0.0024,0.9834])"
   ]
  },
  {
   "cell_type": "code",
   "execution_count": null,
   "metadata": {},
   "outputs": [],
   "source": []
  }
 ],
 "metadata": {
  "kernelspec": {
   "display_name": "Python 3",
   "language": "python",
   "name": "python3"
  },
  "language_info": {
   "codemirror_mode": {
    "name": "ipython",
    "version": 3
   },
   "file_extension": ".py",
   "mimetype": "text/x-python",
   "name": "python",
   "nbconvert_exporter": "python",
   "pygments_lexer": "ipython3",
   "version": "3.7.3"
  }
 },
 "nbformat": 4,
 "nbformat_minor": 4
}
